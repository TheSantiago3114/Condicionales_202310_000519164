{
  "nbformat": 4,
  "nbformat_minor": 0,
  "metadata": {
    "colab": {
      "provenance": [],
      "authorship_tag": "ABX9TyOlPa0owGmQCGzlHeNVqgJ1",
      "include_colab_link": true
    },
    "kernelspec": {
      "name": "python3",
      "display_name": "Python 3"
    },
    "language_info": {
      "name": "python"
    }
  },
  "cells": [
    {
      "cell_type": "markdown",
      "metadata": {
        "id": "view-in-github",
        "colab_type": "text"
      },
      "source": [
        "<a href=\"https://colab.research.google.com/github/TheSantiago3114/Condicionales_202310_000519164/blob/main/Taller%203.ipynb\" target=\"_parent\"><img src=\"https://colab.research.google.com/assets/colab-badge.svg\" alt=\"Open In Colab\"/></a>"
      ]
    },
    {
      "cell_type": "markdown",
      "source": [],
      "metadata": {
        "id": "zqaTpmauDQPY"
      }
    },
    {
      "cell_type": "markdown",
      "source": [
        "## Solucion taller 3 \n",
        "## Fundamentos de programación - Ingeniería Mecánica UPB 202310\n",
        "\n",
        "- santiago andres molina rodriguez\n",
        "- 000519164\n",
        "- santiago.molinar@upb.edu.co"
      ],
      "metadata": {
        "id": "WhNE9JcFMas_"
      }
    },
    {
      "cell_type": "code",
      "source": [
        "#calcular nota\n",
        "nota = float(input(\"colocar su nota: \"))\n",
        "\n",
        "#variables entre las notas \n",
        "if nota >= 4.5 and nota < 5.0:\n",
        "  print(\" EXELENTEEEEEE \")\n",
        "elif nota >= 4.0 and nota < 4.5:\n",
        "  print(\" BUENISIMOOOOOOO \")\n",
        "elif nota >= 3.0 and nota < 4.0: \n",
        " print(\" Se puede haver mejor, regular \")\n",
        "elif nota >= 1.0 and nota < 3.0:\n",
        " print(\" TIENES Q MEJORAR ANIMO, PQ VAS MAL \")\n",
        "\n",
        "# Si no sale ninguno de los anteriores\n",
        "else:\n",
        " print(\"error, colocar bien las notas entre 0 y 5.0\")"
      ],
      "metadata": {
        "id": "SulT9_SUJJvK"
      },
      "execution_count": null,
      "outputs": []
    },
    {
      "cell_type": "code",
      "source": [],
      "metadata": {
        "id": "ZLjSnDUEMsUe"
      },
      "execution_count": null,
      "outputs": []
    }
  ]
}